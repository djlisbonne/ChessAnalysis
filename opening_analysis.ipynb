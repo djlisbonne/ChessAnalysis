{
 "cells": [
  {
   "cell_type": "code",
   "execution_count": 1,
   "id": "fbcdd028",
   "metadata": {},
   "outputs": [],
   "source": [
    "import pandas as pd\n",
    "import matplotlib.pyplot as plt\n",
    "import bokeh\n",
    "import seaborn as sns\n",
    "import numpy as np\n",
    "import scipy"
   ]
  },
  {
   "cell_type": "code",
   "execution_count": 2,
   "id": "8064cbf3",
   "metadata": {},
   "outputs": [],
   "source": [
    "full_sheet_df = pd.read_csv(\"games.csv\")"
   ]
  },
  {
   "cell_type": "code",
   "execution_count": 3,
   "id": "d6153401",
   "metadata": {},
   "outputs": [
    {
     "data": {
      "text/plain": [
       "(20058, 16)"
      ]
     },
     "execution_count": 3,
     "metadata": {},
     "output_type": "execute_result"
    }
   ],
   "source": [
    "# preview first 5 rows of data\n",
    "full_sheet_df.head();\n",
    "full_sheet_df.shape\n",
    "# quick = full_sheet_df[full_sheet_df[\"turns\"] < 10]\n",
    "# quick[quick[\"victory_status\"] == \"mate\"].sort_values(by=[\"turns\"])"
   ]
  },
  {
   "cell_type": "code",
   "execution_count": 4,
   "id": "33762ba8",
   "metadata": {},
   "outputs": [],
   "source": [
    "\"\"\"\n",
    "Goals of analysis for these notebooks:\n",
    "1) popularity of opening (ECO) vs. elo rating (multi-line graph eg. ridgeline)\n",
    "2) win rate of (ECO) openings over spectrum of elo ratings (think about how)\n",
    "3) advantage of playing as white vs. elo rating\n",
    "\n",
    "\"\"\";"
   ]
  },
  {
   "cell_type": "code",
   "execution_count": 5,
   "id": "bcde92ab",
   "metadata": {},
   "outputs": [],
   "source": [
    "# Graph of white player winrate vs. rating\n",
    "# (create rating bands? and then calculate winrate within those bands?)\n",
    "# (also, let's only look at rated games)"
   ]
  },
  {
   "cell_type": "code",
   "execution_count": 6,
   "id": "362711ce",
   "metadata": {},
   "outputs": [
    {
     "data": {
      "text/plain": [
       "(16155, 16)"
      ]
     },
     "execution_count": 6,
     "metadata": {},
     "output_type": "execute_result"
    }
   ],
   "source": [
    "rated = full_sheet_df[full_sheet_df[\"rated\"] == True]\n",
    "rated.shape"
   ]
  },
  {
   "cell_type": "code",
   "execution_count": 7,
   "id": "3ad52b14",
   "metadata": {},
   "outputs": [],
   "source": [
    "ten_plus_zero_rated = rated[rated[\"increment_code\"] == \"10+0\"]\n",
    "condensed = ten_plus_zero_rated[[\"white_rating\", \"black_rating\", \"opening_eco\", \"opening_name\"]]"
   ]
  },
  {
   "cell_type": "code",
   "execution_count": 8,
   "id": "e8d24980",
   "metadata": {},
   "outputs": [],
   "source": [
    "# these work, full list of all unique opening codes+names\n",
    "ten_plus_zero_rated.opening_eco.unique();\n",
    "ten_plus_zero_rated.opening_name.unique();"
   ]
  },
  {
   "cell_type": "code",
   "execution_count": 9,
   "id": "60daa473",
   "metadata": {},
   "outputs": [
    {
     "name": "stderr",
     "output_type": "stream",
     "text": [
      "/Library/Frameworks/Python.framework/Versions/3.9/lib/python3.9/site-packages/pandas/core/frame.py:3607: SettingWithCopyWarning: \n",
      "A value is trying to be set on a copy of a slice from a DataFrame.\n",
      "Try using .loc[row_indexer,col_indexer] = value instead\n",
      "\n",
      "See the caveats in the documentation: https://pandas.pydata.org/pandas-docs/stable/user_guide/indexing.html#returning-a-view-versus-a-copy\n",
      "  self._set_item(key, value)\n"
     ]
    },
    {
     "data": {
      "text/html": [
       "<div>\n",
       "<style scoped>\n",
       "    .dataframe tbody tr th:only-of-type {\n",
       "        vertical-align: middle;\n",
       "    }\n",
       "\n",
       "    .dataframe tbody tr th {\n",
       "        vertical-align: top;\n",
       "    }\n",
       "\n",
       "    .dataframe thead th {\n",
       "        text-align: right;\n",
       "    }\n",
       "</style>\n",
       "<table border=\"1\" class=\"dataframe\">\n",
       "  <thead>\n",
       "    <tr style=\"text-align: right;\">\n",
       "      <th></th>\n",
       "      <th>white_rating</th>\n",
       "      <th>black_rating</th>\n",
       "      <th>opening_eco</th>\n",
       "      <th>opening_name</th>\n",
       "      <th>rating_avg</th>\n",
       "    </tr>\n",
       "  </thead>\n",
       "  <tbody>\n",
       "    <tr>\n",
       "      <th>11467</th>\n",
       "      <td>827</td>\n",
       "      <td>806</td>\n",
       "      <td>B01</td>\n",
       "      <td>Scandinavian Defense</td>\n",
       "      <td>816.5</td>\n",
       "    </tr>\n",
       "    <tr>\n",
       "      <th>917</th>\n",
       "      <td>813</td>\n",
       "      <td>841</td>\n",
       "      <td>C20</td>\n",
       "      <td>King's Pawn Game: Leonardis Variation</td>\n",
       "      <td>827.0</td>\n",
       "    </tr>\n",
       "    <tr>\n",
       "      <th>11478</th>\n",
       "      <td>889</td>\n",
       "      <td>850</td>\n",
       "      <td>C20</td>\n",
       "      <td>King's Pawn Game</td>\n",
       "      <td>869.5</td>\n",
       "    </tr>\n",
       "    <tr>\n",
       "      <th>1655</th>\n",
       "      <td>784</td>\n",
       "      <td>970</td>\n",
       "      <td>C40</td>\n",
       "      <td>King's Knight Opening</td>\n",
       "      <td>877.0</td>\n",
       "    </tr>\n",
       "    <tr>\n",
       "      <th>11479</th>\n",
       "      <td>833</td>\n",
       "      <td>930</td>\n",
       "      <td>A40</td>\n",
       "      <td>Englund Gambit</td>\n",
       "      <td>881.5</td>\n",
       "    </tr>\n",
       "    <tr>\n",
       "      <th>1667</th>\n",
       "      <td>808</td>\n",
       "      <td>973</td>\n",
       "      <td>A00</td>\n",
       "      <td>Van't Kruijs Opening</td>\n",
       "      <td>890.5</td>\n",
       "    </tr>\n",
       "    <tr>\n",
       "      <th>11466</th>\n",
       "      <td>784</td>\n",
       "      <td>1006</td>\n",
       "      <td>C20</td>\n",
       "      <td>King's Pawn Game</td>\n",
       "      <td>895.0</td>\n",
       "    </tr>\n",
       "    <tr>\n",
       "      <th>11468</th>\n",
       "      <td>1025</td>\n",
       "      <td>818</td>\n",
       "      <td>B01</td>\n",
       "      <td>Scandinavian Defense</td>\n",
       "      <td>921.5</td>\n",
       "    </tr>\n",
       "    <tr>\n",
       "      <th>11469</th>\n",
       "      <td>1027</td>\n",
       "      <td>831</td>\n",
       "      <td>B01</td>\n",
       "      <td>Scandinavian Defense</td>\n",
       "      <td>929.0</td>\n",
       "    </tr>\n",
       "    <tr>\n",
       "      <th>3173</th>\n",
       "      <td>906</td>\n",
       "      <td>1001</td>\n",
       "      <td>A40</td>\n",
       "      <td>Englund Gambit Declined |  Reversed French</td>\n",
       "      <td>953.5</td>\n",
       "    </tr>\n",
       "  </tbody>\n",
       "</table>\n",
       "</div>"
      ],
      "text/plain": [
       "       white_rating  black_rating opening_eco  \\\n",
       "11467           827           806         B01   \n",
       "917             813           841         C20   \n",
       "11478           889           850         C20   \n",
       "1655            784           970         C40   \n",
       "11479           833           930         A40   \n",
       "1667            808           973         A00   \n",
       "11466           784          1006         C20   \n",
       "11468          1025           818         B01   \n",
       "11469          1027           831         B01   \n",
       "3173            906          1001         A40   \n",
       "\n",
       "                                     opening_name  rating_avg  \n",
       "11467                        Scandinavian Defense       816.5  \n",
       "917         King's Pawn Game: Leonardis Variation       827.0  \n",
       "11478                            King's Pawn Game       869.5  \n",
       "1655                        King's Knight Opening       877.0  \n",
       "11479                              Englund Gambit       881.5  \n",
       "1667                         Van't Kruijs Opening       890.5  \n",
       "11466                            King's Pawn Game       895.0  \n",
       "11468                        Scandinavian Defense       921.5  \n",
       "11469                        Scandinavian Defense       929.0  \n",
       "3173   Englund Gambit Declined |  Reversed French       953.5  "
      ]
     },
     "execution_count": 9,
     "metadata": {},
     "output_type": "execute_result"
    }
   ],
   "source": [
    "condensed[\"rating_avg\"] = condensed.loc[:, \"white_rating\":\"black_rating\"].mean(axis=1)\n",
    "condensed.sort_values(by=[\"rating_avg\"]).head(10)"
   ]
  },
  {
   "cell_type": "code",
   "execution_count": 10,
   "id": "c676cdbe",
   "metadata": {},
   "outputs": [],
   "source": [
    "# now, need to graph opening_eco vs. rating_avg"
   ]
  },
  {
   "cell_type": "code",
   "execution_count": 11,
   "id": "a46c691c",
   "metadata": {},
   "outputs": [],
   "source": [
    "# let's start with the 10 most popular openings\n",
    "data = condensed[[\"rating_avg\", \"opening_eco\"]]\n",
    "re = data[\"opening_eco\"].value_counts().nlargest(10).index.to_numpy()\n",
    "top_ten = data[data[\"opening_eco\"].isin(re)]\n",
    "# list(zip(re, data[\"opening_eco\"].value_counts().nlargest(10).values))"
   ]
  },
  {
   "cell_type": "code",
   "execution_count": 14,
   "id": "27e56ed1",
   "metadata": {},
   "outputs": [],
   "source": [
    "top_ten;"
   ]
  },
  {
   "cell_type": "code",
   "execution_count": 12,
   "id": "002f019e",
   "metadata": {},
   "outputs": [
    {
     "data": {
      "text/plain": [
       "<AxesSubplot:xlabel='rating_avg', ylabel='opening_eco'>"
      ]
     },
     "execution_count": 12,
     "metadata": {},
     "output_type": "execute_result"
    },
    {
     "data": {
      "image/png": "[encoded data removed]",
      "text/plain": [
       "<Figure size 576x576 with 1 Axes>"
      ]
     },
     "metadata": {
      "needs_background": "light"
     },
     "output_type": "display_data"
    }
   ],
   "source": [
    "# plot using seaborn\n",
    "plt.rcParams['figure.figsize'] = [8,8]\n",
    "sns.scatterplot(data=top_ten, x=\"rating_avg\", y=\"opening_eco\", alpha=0.1, sizes=(20, 800))"
   ]
  },
  {
   "cell_type": "code",
   "execution_count": 97,
   "id": "5eaec4df",
   "metadata": {},
   "outputs": [],
   "source": [
    "# now, I want to put small boxes around the inner 50% of games\n",
    "sorted_top_ten = top_ten.sort_values(by=\"rating_avg\")\n",
    "data_df = sorted_top_ten.describe()[\"rating_avg\"]\n",
    "twentyfive = data_df[4]\n",
    "seventyfive = data_df[6]"
   ]
  },
  {
   "cell_type": "code",
   "execution_count": 30,
   "id": "e44899e1",
   "metadata": {},
   "outputs": [
    {
     "data": {
      "text/html": [
       "<div>\n",
       "<style scoped>\n",
       "    .dataframe tbody tr th:only-of-type {\n",
       "        vertical-align: middle;\n",
       "    }\n",
       "\n",
       "    .dataframe tbody tr th {\n",
       "        vertical-align: top;\n",
       "    }\n",
       "\n",
       "    .dataframe thead th {\n",
       "        text-align: right;\n",
       "    }\n",
       "</style>\n",
       "<table border=\"1\" class=\"dataframe\">\n",
       "  <thead>\n",
       "    <tr style=\"text-align: right;\">\n",
       "      <th></th>\n",
       "      <th>rating_avg</th>\n",
       "      <th>opening_eco</th>\n",
       "    </tr>\n",
       "  </thead>\n",
       "  <tbody>\n",
       "    <tr>\n",
       "      <th>320</th>\n",
       "      <td>1613.5</td>\n",
       "      <td>A00</td>\n",
       "    </tr>\n",
       "    <tr>\n",
       "      <th>796</th>\n",
       "      <td>1651.5</td>\n",
       "      <td>C00</td>\n",
       "    </tr>\n",
       "    <tr>\n",
       "      <th>797</th>\n",
       "      <td>1651.5</td>\n",
       "      <td>A00</td>\n",
       "    </tr>\n",
       "    <tr>\n",
       "      <th>811</th>\n",
       "      <td>1700.0</td>\n",
       "      <td>D00</td>\n",
       "    </tr>\n",
       "    <tr>\n",
       "      <th>1056</th>\n",
       "      <td>1590.0</td>\n",
       "      <td>C00</td>\n",
       "    </tr>\n",
       "    <tr>\n",
       "      <th>...</th>\n",
       "      <td>...</td>\n",
       "      <td>...</td>\n",
       "    </tr>\n",
       "    <tr>\n",
       "      <th>19907</th>\n",
       "      <td>1552.0</td>\n",
       "      <td>C41</td>\n",
       "    </tr>\n",
       "    <tr>\n",
       "      <th>19913</th>\n",
       "      <td>1640.0</td>\n",
       "      <td>C00</td>\n",
       "    </tr>\n",
       "    <tr>\n",
       "      <th>20024</th>\n",
       "      <td>1800.0</td>\n",
       "      <td>B20</td>\n",
       "    </tr>\n",
       "    <tr>\n",
       "      <th>20049</th>\n",
       "      <td>1290.0</td>\n",
       "      <td>C00</td>\n",
       "    </tr>\n",
       "    <tr>\n",
       "      <th>20057</th>\n",
       "      <td>1287.0</td>\n",
       "      <td>D00</td>\n",
       "    </tr>\n",
       "  </tbody>\n",
       "</table>\n",
       "<p>974 rows × 2 columns</p>\n",
       "</div>"
      ],
      "text/plain": [
       "       rating_avg opening_eco\n",
       "320        1613.5         A00\n",
       "796        1651.5         C00\n",
       "797        1651.5         A00\n",
       "811        1700.0         D00\n",
       "1056       1590.0         C00\n",
       "...           ...         ...\n",
       "19907      1552.0         C41\n",
       "19913      1640.0         C00\n",
       "20024      1800.0         B20\n",
       "20049      1290.0         C00\n",
       "20057      1287.0         D00\n",
       "\n",
       "[974 rows x 2 columns]"
      ]
     },
     "execution_count": 30,
     "metadata": {},
     "output_type": "execute_result"
    }
   ],
   "source": [
    "top_ten[top_ten[\"rating_avg\"].duplicated()]"
   ]
  },
  {
   "cell_type": "code",
   "execution_count": null,
   "id": "f3bdf022",
   "metadata": {},
   "outputs": [],
   "source": []
  },
  {
   "cell_type": "code",
   "execution_count": 31,
   "id": "30a32e9e",
   "metadata": {},
   "outputs": [],
   "source": [
    "# next, a look at my favorite opening for white and black, and their winrates vs. rating"
   ]
  },
  {
   "cell_type": "code",
   "execution_count": 46,
   "id": "a3854530",
   "metadata": {},
   "outputs": [],
   "source": [
    "# first, for White -- the London System\n",
    "london_system = full_sheet_df[full_sheet_df[\"opening_eco\"].isin([\"A48\", \"D02\"])] \n",
    "# not sure about D02\n",
    "london_total_games = london_system.shape[0]\n",
    "white_london_wins = len(london_system[london_system[\"winner\"] == \"white\"])\n",
    "black_london_wins = len(london_system[london_system[\"winner\"] == \"black\"])\n",
    "draws_london = london_system.shape[0] - (white_london_wins + black_london_wins)\n",
    "white_wr = round((white_london_wins/london_total_games)*100,2)\n",
    "black_wr = round((black_london_wins/london_total_games)*100,2)"
   ]
  },
  {
   "cell_type": "code",
   "execution_count": 48,
   "id": "2a419fc8",
   "metadata": {},
   "outputs": [
    {
     "data": {
      "text/plain": [
       "(466, 50.21, 45.06)"
      ]
     },
     "execution_count": 48,
     "metadata": {},
     "output_type": "execute_result"
    }
   ],
   "source": [
    "london_total_games, white_wr, black_wr"
   ]
  },
  {
   "cell_type": "code",
   "execution_count": null,
   "id": "e625b000",
   "metadata": {},
   "outputs": [],
   "source": []
  }
 ],
 "metadata": {
  "kernelspec": {
   "display_name": "Python 3 (ipykernel)",
   "language": "python",
   "name": "python3"
  },
  "language_info": {
   "codemirror_mode": {
    "name": "ipython",
    "version": 3
   },
   "file_extension": ".py",
   "mimetype": "text/x-python",
   "name": "python",
   "nbconvert_exporter": "python",
   "pygments_lexer": "ipython3",
   "version": "3.9.6"
  }
 },
 "nbformat": 4,
 "nbformat_minor": 5
}
