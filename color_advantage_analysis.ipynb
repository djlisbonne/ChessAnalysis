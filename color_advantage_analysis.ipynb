{
 "cells": [
  {
   "cell_type": "code",
   "execution_count": 44,
   "id": "33b1c586",
   "metadata": {},
   "outputs": [],
   "source": [
    "import pandas as pd\n",
    "import matplotlib.pyplot as plt\n",
    "import bokeh\n",
    "import seaborn as sns\n",
    "import numpy as np\n",
    "import scipy"
   ]
  },
  {
   "cell_type": "code",
   "execution_count": 45,
   "id": "a203a4dc",
   "metadata": {},
   "outputs": [],
   "source": [
    "complete_data = pd.read_csv(\"games.csv\")\n",
    "complete_data.head(3);"
   ]
  },
  {
   "cell_type": "code",
   "execution_count": 46,
   "id": "5724bd52",
   "metadata": {},
   "outputs": [],
   "source": [
    "# in this notebook, I want to visualize the advantage of playing as white over ELO rating\n",
    "# with the goal of determining if the advantage changes over time, and if so, how?\n",
    "# (note: for both RATED and UNRATED games, separately)"
   ]
  },
  {
   "cell_type": "code",
   "execution_count": 273,
   "id": "ef6013c8",
   "metadata": {},
   "outputs": [
    {
     "name": "stderr",
     "output_type": "stream",
     "text": [
      "/Library/Frameworks/Python.framework/Versions/3.9/lib/python3.9/site-packages/pandas/core/frame.py:3607: SettingWithCopyWarning: \n",
      "A value is trying to be set on a copy of a slice from a DataFrame.\n",
      "Try using .loc[row_indexer,col_indexer] = value instead\n",
      "\n",
      "See the caveats in the documentation: https://pandas.pydata.org/pandas-docs/stable/user_guide/indexing.html#returning-a-view-versus-a-copy\n",
      "  self._set_item(key, value)\n"
     ]
    }
   ],
   "source": [
    "pertinent = complete_data[[\"rated\", \"winner\", \"white_rating\", \"black_rating\"]]\n",
    "pertinent[\"rating_avg\"] = (pertinent[\"white_rating\"] + pertinent[\"black_rating\"])/2\n",
    "pertinent.head(5);"
   ]
  },
  {
   "cell_type": "code",
   "execution_count": 48,
   "id": "04a3195c",
   "metadata": {},
   "outputs": [],
   "source": [
    "rated_games = pertinent[pertinent[\"rated\"] == True].sort_values(by=\"rating_avg\")\n",
    "unrated_games = pertinent[pertinent[\"rated\"] == False].sort_values(by=\"rating_avg\")"
   ]
  },
  {
   "cell_type": "code",
   "execution_count": 49,
   "id": "1af31bb2",
   "metadata": {},
   "outputs": [],
   "source": [
    "# now, need to find the winrate of white as a function of the ELO rating for both sets"
   ]
  },
  {
   "cell_type": "code",
   "execution_count": 117,
   "id": "ee139a79",
   "metadata": {},
   "outputs": [],
   "source": [
    "rated_games;"
   ]
  },
  {
   "cell_type": "code",
   "execution_count": null,
   "id": "0d2c22bd",
   "metadata": {},
   "outputs": [],
   "source": []
  }
 ],
 "metadata": {
  "kernelspec": {
   "display_name": "Python 3 (ipykernel)",
   "language": "python",
   "name": "python3"
  },
  "language_info": {
   "codemirror_mode": {
    "name": "ipython",
    "version": 3
   },
   "file_extension": ".py",
   "mimetype": "text/x-python",
   "name": "python",
   "nbconvert_exporter": "python",
   "pygments_lexer": "ipython3",
   "version": "3.9.6"
  }
 },
 "nbformat": 4,
 "nbformat_minor": 5
}
